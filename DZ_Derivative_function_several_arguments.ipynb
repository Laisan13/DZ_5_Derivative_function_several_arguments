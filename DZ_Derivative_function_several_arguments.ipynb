{
 "cells": [
  {
   "cell_type": "markdown",
   "id": "otherwise-nevada",
   "metadata": {},
   "source": [
    "# Домашнее задание \"Производная функции нескольких аргументов\"\n"
   ]
  },
  {
   "cell_type": "markdown",
   "id": "sixth-monitor",
   "metadata": {},
   "source": [
    "### Уровень 0:\n",
    "Посчитайте частные производные функций:\n",
    "\n",
    "1) $f(x,y)=2x^2y^3 + 1/x + y^2x + 7$, а для этой функции также градиент в точке $(1,2)$\n",
    "\n",
    "2) $f(x,y)=x^2y - sin(xy) + cos(x^2) + 6y$"
   ]
  },
  {
   "cell_type": "code",
   "execution_count": 44,
   "id": "rough-biology",
   "metadata": {},
   "outputs": [
    {
     "name": "stdout",
     "output_type": "stream",
     "text": [
      "Частные производные: 4*X*y**3 + y**2 - 1/X**2     6*X**2*y**2 + 2*X*y\n"
     ]
    }
   ],
   "source": [
    "from scipy.optimize import approx_fprime\n",
    "import numpy as np\n",
    "from sympy import *\n",
    "import math\n",
    "\n",
    "X, y = symbols('X y')\n",
    "\n",
    "f1 = diff(2*X**2*(y**3) + 1/X + y**2*X+7, X)\n",
    "f2 = diff(2*X**2*(y**3) + 1/X + y**2*X+7, y)\n",
    "print('Частные производные:',f1,'   ' , f2)"
   ]
  },
  {
   "cell_type": "code",
   "execution_count": 29,
   "id": "later-institute",
   "metadata": {},
   "outputs": [
    {
     "name": "stdout",
     "output_type": "stream",
     "text": [
      "Градиент в точке (1;2): [35.00000024 28.00000024]\n"
     ]
    }
   ],
   "source": [
    "def func (x, c0, c1, c3):\n",
    "    return c0*x[ 0 ]**2*(x[ 1 ]**3) + c1/x[ 0 ] + c3*x[ 1 ]**2*x[ 0 ]+7\n",
    "c0, c1 , c3 = ( 2, 1, 1 )\n",
    "\n",
    "eps = np . sqrt(np . finfo( float ) . eps)\n",
    "\n",
    "x = np . array([ 1 , 2 ])\n",
    "\n",
    "grad = approx_fprime(x, func, [eps, eps], c0, c1, c3)\n",
    "\n",
    "print('Градиент в точке (1;2):',grad)"
   ]
  },
  {
   "cell_type": "code",
   "execution_count": 53,
   "id": "commercial-london",
   "metadata": {},
   "outputs": [
    {
     "name": "stdout",
     "output_type": "stream",
     "text": [
      "Частные производные: 2*X1*y1 - 2*X1*sin(X1**2) - y1*cos(X1*y1)     X1**2 - X1*cos(X1*y1) + 6\n"
     ]
    }
   ],
   "source": [
    "X1, y1 = symbols('X1 y1')\n",
    "\n",
    "f3 = diff(X1**2*(y1) - sin(X1*y1) + cos(X1**2) + 6*y1, X1)\n",
    "f4 = diff(X1**2*(y1) - sin(X1*y1) + cos(X1**2) + 6*y1, y1)\n",
    "print('Частные производные:',f3,'   ' , f4)"
   ]
  },
  {
   "cell_type": "markdown",
   "id": "sought-representative",
   "metadata": {},
   "source": [
    "### Уровень 1:\n",
    "Градиентный спуск своими руками:"
   ]
  },
  {
   "cell_type": "code",
   "execution_count": 117,
   "id": "colored-metabolism",
   "metadata": {},
   "outputs": [
    {
     "name": "stdout",
     "output_type": "stream",
     "text": [
      "Минимум достигается в:  [1.29197811e-08 3.32901401e-08]\n",
      "Значение функции в минимуме:  1.2751541739575584e-15\n"
     ]
    }
   ],
   "source": [
    "def f(x):\n",
    "    return (x[0]**2) + (x[1]**2)\n",
    "\n",
    "x = np.array([100., 200.])\n",
    "eps = np . sqrt(np . finfo( float ) . eps)\n",
    "learning_rate = 0.1\n",
    "\n",
    "for i in range(100):\n",
    "    grad = approx_fprime(x, f, [eps, eps])\n",
    "    x = x - learning_rate*grad\n",
    "\n",
    "print(\"Минимум достигается в: \", x)\n",
    "print(\"Значение функции в минимуме: \", f(x))"
   ]
  },
  {
   "cell_type": "markdown",
   "id": "institutional-tobacco",
   "metadata": {},
   "source": [
    "###### Проверка с помощью встроенной функции numpy:"
   ]
  },
  {
   "cell_type": "code",
   "execution_count": 116,
   "id": "turned-graduate",
   "metadata": {},
   "outputs": [
    {
     "name": "stdout",
     "output_type": "stream",
     "text": [
      "Optimization terminated successfully.\n",
      "         Current function value: 0.000000\n",
      "         Iterations: 100\n",
      "         Function evaluations: 193\n"
     ]
    }
   ],
   "source": [
    "from scipy.optimize import minimize\n",
    "\n",
    "res = minimize(f, [100., 200.], method = 'nelder-mead' , options = { 'xtol' : 1e-10 , 'disp' : True })"
   ]
  }
 ],
 "metadata": {
  "kernelspec": {
   "display_name": "Python 3",
   "language": "python",
   "name": "python3"
  },
  "language_info": {
   "codemirror_mode": {
    "name": "ipython",
    "version": 3
   },
   "file_extension": ".py",
   "mimetype": "text/x-python",
   "name": "python",
   "nbconvert_exporter": "python",
   "pygments_lexer": "ipython3",
   "version": "3.8.5"
  }
 },
 "nbformat": 4,
 "nbformat_minor": 5
}
